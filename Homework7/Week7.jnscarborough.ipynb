{
  "nbformat": 4,
  "nbformat_minor": 0,
  "metadata": {
    "kernelspec": {
      "display_name": "Python 3",
      "language": "python",
      "name": "python3"
    },
    "language_info": {
      "codemirror_mode": {
        "name": "ipython",
        "version": 3
      },
      "file_extension": ".py",
      "mimetype": "text/x-python",
      "name": "python",
      "nbconvert_exporter": "python",
      "pygments_lexer": "ipython3",
      "version": "3.7.7"
    },
    "colab": {
      "name": "Week7.ipynb",
      "provenance": []
    }
  },
  "cells": [
    {
      "cell_type": "markdown",
      "metadata": {
        "id": "j-wKr7iLu88F"
      },
      "source": [
        "# Week Seven: Data manipulation\n",
        "\n",
        "The goal of filling in the requested pieces is twofold: you should be able to run the worksheet and get the requested answer with the given dataset, and you should also be able to pass with different datasets (not given). These will often check unusual inputs, etc., so try to make sure all possible input datasets are accounted for.\n",
        "\n",
        "To be graded, your notebook must be runnable start to finish. If you can't make an in-notebook test pass, comment it out for to attempt to get partial credit. You should replace the `...` markers with your code. Do not change the names of the pre-defined variables and functions.\n",
        "\n",
        "Plots should have the required elements of a plot: labels, units if valid, a legend if more than one marker or line type is present. Titles are not required."
      ]
    },
    {
      "cell_type": "code",
      "metadata": {
        "id": "FJMitTaGu88F"
      },
      "source": [
        "import pandas as pd\n",
        "import numpy as np\n",
        "import matplotlib.pyplot as plt\n",
        "from scipy.stats import cauchy, expon\n",
        "from scipy.optimize import minimize"
      ],
      "execution_count": 10,
      "outputs": []
    },
    {
      "cell_type": "markdown",
      "metadata": {
        "id": "2jyThVxZu88I"
      },
      "source": [
        "## Problem 1: Projections\n",
        "\n",
        "For this problem, you will read in the dataset here: `proj_data.csv` (sitting next to this notebook or from the given URL). You can use Pandas `read_csv`. It does not have an index, and the first row is the column names."
      ]
    },
    {
      "cell_type": "code",
      "metadata": {
        "id": "wljz236Ru88I"
      },
      "source": [
        "df = pd.read_csv('https://raw.githubusercontent.com/henryiii/compclass/master/problems/proj_data.csv')"
      ],
      "execution_count": 66,
      "outputs": []
    },
    {
      "cell_type": "markdown",
      "metadata": {
        "id": "AwRgx-nDu88K"
      },
      "source": [
        "The dataset is a collection of two vectors; `x_*` is displacement from the origin, and `d_*` is normalized direction. Note that `x_z` is 0, and so is not included explicitly in the file. Technically, a line only has 4 degrees of freedom, so you can reconstruct `d_z` from `d_x` and `d_y` using the relation $1 = d_x^2 + d_y^2 + d_z^2$.\n",
        "\n",
        "Add $d_z$ in a new `d_z` column, and a `x_z` column of zeros for $x_z$."
      ]
    },
    {
      "cell_type": "code",
      "metadata": {
        "id": "kT0yGZ5tu88L",
        "outputId": "6ae25e74-e465-4ee9-c0b7-dd7c090ee823",
        "colab": {
          "base_uri": "https://localhost:8080/",
          "height": 407
        }
      },
      "source": [
        "df = pd.DataFrame(df)\n",
        "d_x2 = d_x*d_x\n",
        "d_y2 = d_y*d_y\n",
        "d_z = np.sqrt(1 - d_x2 - d_y2)\n",
        "df.insert(4, \"x_z\", 0, True)\n",
        "df.insert(5, \"d_z\", d_z, True)\n",
        "df"
      ],
      "execution_count": 67,
      "outputs": [
        {
          "output_type": "execute_result",
          "data": {
            "text/html": [
              "<div>\n",
              "<style scoped>\n",
              "    .dataframe tbody tr th:only-of-type {\n",
              "        vertical-align: middle;\n",
              "    }\n",
              "\n",
              "    .dataframe tbody tr th {\n",
              "        vertical-align: top;\n",
              "    }\n",
              "\n",
              "    .dataframe thead th {\n",
              "        text-align: right;\n",
              "    }\n",
              "</style>\n",
              "<table border=\"1\" class=\"dataframe\">\n",
              "  <thead>\n",
              "    <tr style=\"text-align: right;\">\n",
              "      <th></th>\n",
              "      <th>x_x</th>\n",
              "      <th>x_y</th>\n",
              "      <th>d_x</th>\n",
              "      <th>d_y</th>\n",
              "      <th>x_z</th>\n",
              "      <th>d_z</th>\n",
              "    </tr>\n",
              "  </thead>\n",
              "  <tbody>\n",
              "    <tr>\n",
              "      <th>0</th>\n",
              "      <td>1.005992</td>\n",
              "      <td>0.450739</td>\n",
              "      <td>0.221922</td>\n",
              "      <td>0.001261</td>\n",
              "      <td>0</td>\n",
              "      <td>0.975064</td>\n",
              "    </tr>\n",
              "    <tr>\n",
              "      <th>1</th>\n",
              "      <td>-0.099124</td>\n",
              "      <td>0.038304</td>\n",
              "      <td>-0.462029</td>\n",
              "      <td>0.440268</td>\n",
              "      <td>0</td>\n",
              "      <td>0.769866</td>\n",
              "    </tr>\n",
              "    <tr>\n",
              "      <th>2</th>\n",
              "      <td>0.574900</td>\n",
              "      <td>-0.010860</td>\n",
              "      <td>0.405129</td>\n",
              "      <td>0.295418</td>\n",
              "      <td>0</td>\n",
              "      <td>0.865216</td>\n",
              "    </tr>\n",
              "    <tr>\n",
              "      <th>3</th>\n",
              "      <td>0.260615</td>\n",
              "      <td>0.522269</td>\n",
              "      <td>0.690296</td>\n",
              "      <td>0.001593</td>\n",
              "      <td>0</td>\n",
              "      <td>0.723525</td>\n",
              "    </tr>\n",
              "    <tr>\n",
              "      <th>4</th>\n",
              "      <td>0.111205</td>\n",
              "      <td>0.125395</td>\n",
              "      <td>-0.566734</td>\n",
              "      <td>0.351891</td>\n",
              "      <td>0</td>\n",
              "      <td>0.744973</td>\n",
              "    </tr>\n",
              "    <tr>\n",
              "      <th>...</th>\n",
              "      <td>...</td>\n",
              "      <td>...</td>\n",
              "      <td>...</td>\n",
              "      <td>...</td>\n",
              "      <td>...</td>\n",
              "      <td>...</td>\n",
              "    </tr>\n",
              "    <tr>\n",
              "      <th>12454</th>\n",
              "      <td>1.037445</td>\n",
              "      <td>0.644376</td>\n",
              "      <td>0.160519</td>\n",
              "      <td>0.056003</td>\n",
              "      <td>0</td>\n",
              "      <td>0.985443</td>\n",
              "    </tr>\n",
              "    <tr>\n",
              "      <th>12455</th>\n",
              "      <td>0.783970</td>\n",
              "      <td>-0.452873</td>\n",
              "      <td>-0.671544</td>\n",
              "      <td>0.084854</td>\n",
              "      <td>0</td>\n",
              "      <td>0.736090</td>\n",
              "    </tr>\n",
              "    <tr>\n",
              "      <th>12456</th>\n",
              "      <td>-0.957032</td>\n",
              "      <td>0.454802</td>\n",
              "      <td>-0.271515</td>\n",
              "      <td>0.110889</td>\n",
              "      <td>0</td>\n",
              "      <td>0.956025</td>\n",
              "    </tr>\n",
              "    <tr>\n",
              "      <th>12457</th>\n",
              "      <td>-0.740396</td>\n",
              "      <td>0.367725</td>\n",
              "      <td>-0.199070</td>\n",
              "      <td>0.036356</td>\n",
              "      <td>0</td>\n",
              "      <td>0.979311</td>\n",
              "    </tr>\n",
              "    <tr>\n",
              "      <th>12458</th>\n",
              "      <td>0.236604</td>\n",
              "      <td>0.128390</td>\n",
              "      <td>-0.518298</td>\n",
              "      <td>0.364882</td>\n",
              "      <td>0</td>\n",
              "      <td>0.773452</td>\n",
              "    </tr>\n",
              "  </tbody>\n",
              "</table>\n",
              "<p>12459 rows × 6 columns</p>\n",
              "</div>"
            ],
            "text/plain": [
              "            x_x       x_y       d_x       d_y  x_z       d_z\n",
              "0      1.005992  0.450739  0.221922  0.001261    0  0.975064\n",
              "1     -0.099124  0.038304 -0.462029  0.440268    0  0.769866\n",
              "2      0.574900 -0.010860  0.405129  0.295418    0  0.865216\n",
              "3      0.260615  0.522269  0.690296  0.001593    0  0.723525\n",
              "4      0.111205  0.125395 -0.566734  0.351891    0  0.744973\n",
              "...         ...       ...       ...       ...  ...       ...\n",
              "12454  1.037445  0.644376  0.160519  0.056003    0  0.985443\n",
              "12455  0.783970 -0.452873 -0.671544  0.084854    0  0.736090\n",
              "12456 -0.957032  0.454802 -0.271515  0.110889    0  0.956025\n",
              "12457 -0.740396  0.367725 -0.199070  0.036356    0  0.979311\n",
              "12458  0.236604  0.128390 -0.518298  0.364882    0  0.773452\n",
              "\n",
              "[12459 rows x 6 columns]"
            ]
          },
          "metadata": {
            "tags": []
          },
          "execution_count": 67
        }
      ]
    },
    {
      "cell_type": "code",
      "metadata": {
        "id": "xE-czy2eu88N"
      },
      "source": [
        "assert len(df.columns) == 6"
      ],
      "execution_count": 50,
      "outputs": []
    },
    {
      "cell_type": "markdown",
      "metadata": {
        "id": "mWblL2lxu88P"
      },
      "source": [
        "Now, plot a 2D histogram of $x_y$ vs. $x_x$. (Remember, it's convertional to write y axis vs. x axis when descibing a plot in text.) Plot 100 bins in the range -2 to 2 on both axis."
      ]
    },
    {
      "cell_type": "code",
      "metadata": {
        "id": "TBPEKKDWu88Q"
      },
      "source": [
        "...#plt.hist(x, bins='auto', rand=(x_0, x_1),)"
      ],
      "execution_count": null,
      "outputs": []
    },
    {
      "cell_type": "markdown",
      "metadata": {
        "id": "qs-WPkHqu88S"
      },
      "source": [
        "These two vectors descibe a line made up of points $\\vec{p} = \\vec{x} + t \\vec{d}$ (and it the $\\vec{x}$ vectors currently lie on the $z=0$ plane). Project onto a plane at $z=+1$, and $z=-1$. Make 2D histograms like the one above for both planes. For this, it is *probably* easier to turn the three columns of length N describing x, y, and z into a 3xN numpy array (up to you). Depends on what you find easier to read."
      ]
    },
    {
      "cell_type": "code",
      "metadata": {
        "id": "cG__VFvTu88S"
      },
      "source": [
        "..."
      ],
      "execution_count": null,
      "outputs": []
    },
    {
      "cell_type": "code",
      "metadata": {
        "id": "fLkoFlgIu88U"
      },
      "source": [
        "..."
      ],
      "execution_count": null,
      "outputs": []
    },
    {
      "cell_type": "markdown",
      "metadata": {
        "id": "4MFi6OZ_u88W"
      },
      "source": [
        "## Problem 2: Runners\n",
        "\n",
        "Let's load the marathon dataset from seaborn. After loading it, you should clean it up (or you can supply a converter dictionary to the read function, but cleaning it up afterwards is probably easier). Use `pd.to_timedelta` to convert the time columns, and make the gender a category."
      ]
    },
    {
      "cell_type": "code",
      "metadata": {
        "id": "JL3NoUdUu88W"
      },
      "source": [
        "mara = pd.read_csv('https://raw.githubusercontent.com/jakevdp/marathon-data/master/marathon-data.csv')"
      ],
      "execution_count": null,
      "outputs": []
    },
    {
      "cell_type": "code",
      "metadata": {
        "id": "nz7phB7iu88Y"
      },
      "source": [
        "mara.info()"
      ],
      "execution_count": null,
      "outputs": []
    },
    {
      "cell_type": "code",
      "metadata": {
        "id": "HEc5GRaFu88Z"
      },
      "source": [
        "..."
      ],
      "execution_count": null,
      "outputs": []
    },
    {
      "cell_type": "markdown",
      "metadata": {
        "id": "JbmXRVwvu88b"
      },
      "source": [
        "For simplicity in the following plots, you can plot the timedelta columns as seconds. Use the `.dt` accessor to get access to the column's `total_seconds()`.\n",
        "\n",
        "Make a scatter plot of final vs. split times (seconds recommended). Draw a line that indicates where a runner would be if they finish the race in exactly twice the split time."
      ]
    },
    {
      "cell_type": "code",
      "metadata": {
        "id": "rVOQUuiLu88b"
      },
      "source": [
        "..."
      ],
      "execution_count": null,
      "outputs": []
    },
    {
      "cell_type": "markdown",
      "metadata": {
        "id": "05Hcpnvhu88d"
      },
      "source": [
        "A runner may run the first half slower than the second half; this is called a positive-split. If they run the second half faster, this is a negative split. Count the number of positive splits, negitave splits, and exactly equal runners."
      ]
    },
    {
      "cell_type": "code",
      "metadata": {
        "id": "R82ZHGNhu88e"
      },
      "source": [
        "POS_RUNNERS = ...\n",
        "EQ_RUNNERS = ...\n",
        "NEG_RUNNERS = ..."
      ],
      "execution_count": null,
      "outputs": []
    },
    {
      "cell_type": "code",
      "metadata": {
        "id": "km1a_rrwu88f"
      },
      "source": [
        "print(f\"\"\"\\\n",
        "Positive-splits: {POS_RUNNERS}\n",
        "Equal-splits:    {EQ_RUNNERS}\n",
        "Negitive-splits: {NEG_RUNNERS}\"\"\")"
      ],
      "execution_count": null,
      "outputs": []
    },
    {
      "cell_type": "markdown",
      "metadata": {
        "id": "SA8TpbTZu88h"
      },
      "source": [
        "Add a new column for split fraction (`'split_fraction'`: 1 - second split time / first split time), then plot a 1D histogram over split fraction. Remember to convert to `total_seconds` before deviding, if you haven't already converted the columns. If you'd like, you can use a stacked histogram and plot different age brackets in different colors - I split into 15-25,25-35,...,85-95 (optional challenge)."
      ]
    },
    {
      "cell_type": "code",
      "metadata": {
        "id": "vWmZ4Tegu88i"
      },
      "source": [
        "..."
      ],
      "execution_count": null,
      "outputs": []
    },
    {
      "cell_type": "code",
      "metadata": {
        "id": "yi2h3ur-u88k"
      },
      "source": [
        "..."
      ],
      "execution_count": null,
      "outputs": []
    },
    {
      "cell_type": "markdown",
      "metadata": {
        "id": "GtEnR5uTu88l"
      },
      "source": [
        "Now plot a 2D histogram of age vs. split fraction. Are the variables correlated? What can you say about runners with a low finishing time?"
      ]
    },
    {
      "cell_type": "code",
      "metadata": {
        "id": "2874h-7Ju88l"
      },
      "source": [
        "..."
      ],
      "execution_count": null,
      "outputs": []
    },
    {
      "cell_type": "code",
      "metadata": {
        "id": "Idd-5-gPu88n"
      },
      "source": [
        "RESPONSE_2 = \"\"\"\n",
        "...\n",
        "\"\"\""
      ],
      "execution_count": null,
      "outputs": []
    },
    {
      "cell_type": "markdown",
      "metadata": {
        "id": "ryhaLwADu88p"
      },
      "source": [
        "# Problem 3: Tips\n",
        "\n",
        "Let's load the tips dataset from seaborn. After loading it, you should clean it up (or you can supply a converter dictionary to the read function, but cleaning it up afterwards is probably easier)."
      ]
    },
    {
      "cell_type": "code",
      "metadata": {
        "id": "2wo77ig6u88p"
      },
      "source": [
        "tips = pd.read_csv('https://raw.githubusercontent.com/mwaskom/seaborn-data/master/tips.csv')"
      ],
      "execution_count": null,
      "outputs": []
    },
    {
      "cell_type": "markdown",
      "metadata": {
        "id": "y2q3BDwyu88r"
      },
      "source": [
        "Clean up the dataset types. `sex`, `day`, and `time` should be categorical. `smoker` should be boolean. You technically can do this in the `read_csv` function above instead. Warning: Note that this dataset has a column named \"size\": since there's a pandas dataframe member named `.size`, pandas will not let you use the shortcut `tips.size` to refer to the column, but rather it will be the `.size` member. You have been warned."
      ]
    },
    {
      "cell_type": "code",
      "metadata": {
        "id": "vJNggWiSu88r"
      },
      "source": [
        "tips.head()"
      ],
      "execution_count": null,
      "outputs": []
    },
    {
      "cell_type": "code",
      "metadata": {
        "id": "uRAySXWau88s"
      },
      "source": [
        "..."
      ],
      "execution_count": null,
      "outputs": []
    },
    {
      "cell_type": "code",
      "metadata": {
        "id": "ycH8sMWwu88u"
      },
      "source": [
        "tips.info()"
      ],
      "execution_count": null,
      "outputs": []
    },
    {
      "cell_type": "markdown",
      "metadata": {
        "id": "BtgeY4r7u88w"
      },
      "source": [
        "Now, add a column with the tip fraction."
      ]
    },
    {
      "cell_type": "code",
      "metadata": {
        "id": "qtqVkuhau88w"
      },
      "source": [
        "..."
      ],
      "execution_count": null,
      "outputs": []
    },
    {
      "cell_type": "markdown",
      "metadata": {
        "id": "IZHm2tAcu88y"
      },
      "source": [
        "What is the average tip fraction? What is the average tip fraction for male waiters from smokers in parties less than 3? You can just display the table."
      ]
    },
    {
      "cell_type": "code",
      "metadata": {
        "id": "MJGJtSFXu88y"
      },
      "source": [
        "AVERAGE_TIP_TOTAL = ...\n",
        "AVERAGE_TIP_1 = ...\n",
        "print(AVERAGE_TIP_TOTAL, AVERAGE_TIP_1)"
      ],
      "execution_count": null,
      "outputs": []
    },
    {
      "cell_type": "markdown",
      "metadata": {
        "id": "ZGOM4GfAu881"
      },
      "source": [
        "Plot a normalized histogram of the `tip_frac` for male and female waiters with two histograms on the same axis (side by side bars, or points). Use 20 or fewer bins."
      ]
    },
    {
      "cell_type": "code",
      "metadata": {
        "id": "IufGJXBDu881"
      },
      "source": [
        "..."
      ],
      "execution_count": null,
      "outputs": []
    },
    {
      "cell_type": "markdown",
      "metadata": {
        "id": "IrGAw-XTu883"
      },
      "source": [
        "## Problem 4: Generating a distribution\n",
        "\n",
        "Generate the following distribution two ways. The PDF is:\n",
        "\n",
        "$$\n",
        "P(x) = 1 - x^2\n",
        "$$\n",
        "\n",
        "From -1 to 1."
      ]
    },
    {
      "cell_type": "code",
      "metadata": {
        "id": "I2zDeNPku883"
      },
      "source": [
        "x = np.linspace(-1,1,100)\n",
        "y = 1 - x**2\n",
        "plt.plot(x,y)\n",
        "plt.show()"
      ],
      "execution_count": null,
      "outputs": []
    },
    {
      "cell_type": "markdown",
      "metadata": {
        "id": "DwRFKlKEu884"
      },
      "source": [
        "### 1.1: Method 1\n",
        "\n",
        "Use the rejection method generate a distribution. `N` is the maximum number of samples to generate (your function can produce less)."
      ]
    },
    {
      "cell_type": "code",
      "metadata": {
        "id": "Ea1ahod9u885"
      },
      "source": [
        "def generate_dist_1(N):\n",
        "    ..."
      ],
      "execution_count": null,
      "outputs": []
    },
    {
      "cell_type": "code",
      "metadata": {
        "id": "q0OasW0_u887"
      },
      "source": [
        "vals = generate_dist_1(1_000_000)\n",
        "plt.hist(vals, bins=np.linspace(-1,1,100), density=True)\n",
        "x = np.linspace(-1,1,100)\n",
        "y = (1 - x**2)/(4/3) # 4/3 = normalization factor\n",
        "plt.plot(x,y)\n",
        "plt.show()"
      ],
      "execution_count": null,
      "outputs": []
    },
    {
      "cell_type": "markdown",
      "metadata": {
        "id": "ND9x3IoLu888"
      },
      "source": [
        "### 1.2 Method 2\n",
        "\n",
        "Use the inverse CDF method to generate the distribution. You can calculate the CDF fairly easily. Note your work to calculate the CDF in a markdown cell, in comments or a docstring, or do it with sympy. For the inverse CDF, use an approximation, such as interpolation (unless you can invert the function symbolically, which I did not have much luck with). Remember to normalize the CDF to 1. (If you can't do this method, try using the binned technique from class).\n",
        "\n",
        "$$\n",
        "\\textrm{CDF}'(a) = \\int_{-1}^{a} f(x) \n",
        "$$\n",
        "\n",
        "$$\n",
        "\\textrm{CDF}(y) = \\frac{\\textrm{CDF}'(a)}{\\textrm{CDF}'(1)} \n",
        "$$\n",
        "\n",
        "$$\n",
        "CDF'(a) = \\int_{-1}^{a} f(x) = x-\\frac{x^{3}}{3} \\biggr|_{x=-1}^{x=a}\n",
        "$$\n",
        "\n",
        "$$\n",
        "CDF'(a) = a - a^3/3 + 2/3 \n",
        "$$\n",
        "\n",
        "$$\n",
        "CDF(1) = 4/3\n",
        "$$\n",
        "\n",
        "$$\n",
        "CDF(a) = \\frac{CDF'(a)}{CDF'(1)} = \\frac{3}{4} a\n",
        "                                 - \\frac{1}{4} a^3\n",
        "                                 + \\frac{1}{2}\n",
        "$$\n",
        "\n",
        "$$\n",
        "4 y = 3 a - a^3 + 2\n",
        "$$\n"
      ]
    },
    {
      "cell_type": "code",
      "metadata": {
        "id": "5e1W5zVcu889"
      },
      "source": [
        "def generate_dist_2(N):\n",
        "    ..."
      ],
      "execution_count": null,
      "outputs": []
    },
    {
      "cell_type": "code",
      "metadata": {
        "id": "RqEe7bCbu88_"
      },
      "source": [
        "data = generate_dist_2(1_000_000)\n",
        "plt.hist(data, bins=np.linspace(-1,1,101), density=True)\n",
        "x = np.linspace(-1,1,100)\n",
        "y = (1 - x**2)/(4/3) # 4/3 = normalization factor\n",
        "plt.plot(x,y)\n",
        "plt.show()"
      ],
      "execution_count": null,
      "outputs": []
    },
    {
      "cell_type": "markdown",
      "metadata": {
        "id": "c8FM-mE4u89A"
      },
      "source": [
        "## Problem 5: Unbinned fitting\n",
        "\n",
        "Fit the following unbinned dataset with a cauchy + an exponential distribution. You can also implement this yourself using `scipy.stats` for `cauchy` and `expon`. The range is from 0 to 20. The only tricky part is normalizing the PDFs, but you have the CDF, so it should be pretty easy.\n",
        "\n",
        "The cauchy PDF is:\n",
        "\n",
        "$$\n",
        "f(x) = \\frac{1}{\\pi (1 + x^2)}\n",
        "$$"
      ]
    },
    {
      "cell_type": "code",
      "metadata": {
        "id": "1yoD96jnu89A"
      },
      "source": [
        "vals = np.loadtxt('Week7.Prob.csv')"
      ],
      "execution_count": null,
      "outputs": []
    },
    {
      "cell_type": "code",
      "metadata": {
        "id": "cqlFAgbUu89C"
      },
      "source": [
        "plt.hist(vals, bins=np.linspace(0,20,50), density=True)\n",
        "plt.show()"
      ],
      "execution_count": null,
      "outputs": []
    },
    {
      "cell_type": "code",
      "metadata": {
        "id": "7aEvBVc_u89D"
      },
      "source": [
        "def f(params, x):\n",
        "    ...\n",
        "\n",
        "def nll_f(params, x):\n",
        "    return ... # Can be one line"
      ],
      "execution_count": null,
      "outputs": []
    },
    {
      "cell_type": "markdown",
      "metadata": {
        "id": "nX61Vaq7u89E"
      },
      "source": [
        "For the fit, you should try initial parameters like `[10, 1, 10, .1]`. You probably should use bounds, with 0-1 for the fraction. The location of the cauchy can be constrained a bit too from the above plot by eye. I had the best luck with the `SLSQP` method."
      ]
    },
    {
      "cell_type": "code",
      "metadata": {
        "id": "rlVkvLxEu89F"
      },
      "source": [
        "def fit_data(data):\n",
        "    res = minimize(...)\n",
        "    return res"
      ],
      "execution_count": null,
      "outputs": []
    },
    {
      "cell_type": "code",
      "metadata": {
        "id": "5i-RW4vyu89G"
      },
      "source": [
        "res = fit_data(vals)\n",
        "res"
      ],
      "execution_count": null,
      "outputs": []
    },
    {
      "cell_type": "code",
      "metadata": {
        "id": "ldAL2Wfnu89H"
      },
      "source": [
        "print(res.x)\n",
        "plt.hist(vals, bins=np.linspace(0,20,50), density=True)\n",
        "x = np.linspace(0,20,100)\n",
        "y = f(res.x, x)\n",
        "plt.plot(x, y, color='C1')\n",
        "plt.show()"
      ],
      "execution_count": null,
      "outputs": []
    }
  ]
}